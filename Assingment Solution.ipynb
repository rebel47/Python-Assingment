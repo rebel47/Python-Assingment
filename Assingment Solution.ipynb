{
 "cells": [
  {
   "cell_type": "code",
   "execution_count": 1,
   "metadata": {},
   "outputs": [
    {
     "name": "stdout",
     "output_type": "stream",
     "text": [
      "Hello World\n"
     ]
    }
   ],
   "source": [
    "# Question 1\n",
    "print(\"Hello World\")"
   ]
  },
  {
   "cell_type": "code",
   "execution_count": 2,
   "metadata": {},
   "outputs": [
    {
     "name": "stdout",
     "output_type": "stream",
     "text": [
      "15\n",
      "2.0\n"
     ]
    }
   ],
   "source": [
    "#Question 2\n",
    "a = 10\n",
    "b = 5\n",
    "# Addition\n",
    "print(a+b)\n",
    "# Division\n",
    "print(a/b)"
   ]
  },
  {
   "cell_type": "code",
   "execution_count": 3,
   "metadata": {},
   "outputs": [
    {
     "name": "stdout",
     "output_type": "stream",
     "text": [
      "25.0\n"
     ]
    }
   ],
   "source": [
    "# Question 3\n",
    "base = 10\n",
    "height = 5\n",
    "area = (base*height)/2\n",
    "print(area)"
   ]
  },
  {
   "cell_type": "code",
   "execution_count": 4,
   "metadata": {},
   "outputs": [
    {
     "name": "stdout",
     "output_type": "stream",
     "text": [
      "Original value of a:10 and b:5\n",
      "Swap value of a:5 and b:10\n"
     ]
    }
   ],
   "source": [
    "#Question 4\n",
    "a = 10\n",
    "b = 5\n",
    "print(f\"Original value of a:{a} and b:{b}\")\n",
    "temp = a\n",
    "a = b\n",
    "b = temp\n",
    "print(f\"Swap value of a:{a} and b:{b}\")\n"
   ]
  },
  {
   "cell_type": "code",
   "execution_count": 5,
   "metadata": {},
   "outputs": [
    {
     "name": "stdout",
     "output_type": "stream",
     "text": [
      "0.6306495484584664\n"
     ]
    }
   ],
   "source": [
    "#Question 5\n",
    "import random\n",
    "print(random.random())"
   ]
  }
 ],
 "metadata": {
  "kernelspec": {
   "display_name": "Python 3",
   "language": "python",
   "name": "python3"
  },
  "language_info": {
   "codemirror_mode": {
    "name": "ipython",
    "version": 3
   },
   "file_extension": ".py",
   "mimetype": "text/x-python",
   "name": "python",
   "nbconvert_exporter": "python",
   "pygments_lexer": "ipython3",
   "version": "3.10.9"
  },
  "orig_nbformat": 4,
  "vscode": {
   "interpreter": {
    "hash": "751e3bf08509dfb25d66b4082afebee29ab6773658277c0545bb4f939d330c9c"
   }
  }
 },
 "nbformat": 4,
 "nbformat_minor": 2
}
